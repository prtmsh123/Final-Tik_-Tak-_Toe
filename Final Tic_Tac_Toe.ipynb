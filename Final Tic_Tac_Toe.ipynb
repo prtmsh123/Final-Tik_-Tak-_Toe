{
 "cells": [
  {
   "cell_type": "code",
   "execution_count": 1,
   "id": "95430116-1db4-4985-9276-7e8267279e8b",
   "metadata": {},
   "outputs": [],
   "source": [
    "# Global Variable\n",
    "player1 = True\n",
    "player2 = False\n",
    "count = 0\n",
    "winner = None\n",
    "again = True"
   ]
  },
  {
   "cell_type": "code",
   "execution_count": 2,
   "id": "3635d110-c340-4e04-98d4-ac70aff02b50",
   "metadata": {},
   "outputs": [],
   "source": [
    "board = [' ',' ',' ',' ',' ',' ',' ',' ',' ']\n",
    "\n",
    "# Display Board\n",
    "def display_board():\n",
    "    print(board[0],'|',board[1],'|',board[2])\n",
    "    print(\"-------\")\n",
    "    print(board[3],'|',board[4],'|',board[5])\n",
    "    print(\"--*---*--\")\n",
    "    print(board[6],'|',board[7],'|',board[8])"
   ]
  },
  {
   "cell_type": "code",
   "execution_count": 3,
   "id": "fe7c704b-7b5f-4ffa-b0fb-60632816066d",
   "metadata": {},
   "outputs": [],
   "source": [
    "# Function for randomlly changing player\n",
    "def changing_player():\n",
    "    \n",
    "    global player1\n",
    "    global player2\n",
    "    \n",
    "    from random import randint\n",
    "    change = randint(1,2)\n",
    "    \n",
    "    if change == 1:\n",
    "        player1 = True\n",
    "        player2 = False\n",
    "    elif change == 2:\n",
    "        player1 = False\n",
    "        player2 = True"
   ]
  },
  {
   "cell_type": "code",
   "execution_count": 4,
   "id": "dc08ced5-845e-4c7b-9526-27e5a8e8ac35",
   "metadata": {},
   "outputs": [],
   "source": [
    "# Function for checking result\n",
    "def check_result():\n",
    "    global winner\n",
    "    \n",
    "    # check_rows\n",
    "    if board[0] == board[1] == board[2] != ' ':\n",
    "        winner = board[0]        \n",
    "    elif board[3] == board[4] == board[5] != ' ':\n",
    "        winner = board[3]        \n",
    "    elif board[6] == board[7] == board[8] != ' ':\n",
    "        winner = board[6]\n",
    "    \n",
    "    # check_column\n",
    "    if board[0] == board[3] == board[6] != ' ':\n",
    "        winner = board[0]        \n",
    "    elif board[1] == board[4] == board[7] != ' ':\n",
    "        winner = board[1]        \n",
    "    elif board[2] == board[5] == board[8] != ' ':\n",
    "        winner = board[2]\n",
    "    \n",
    "    # check_diagonal\n",
    "    if board[0] == board[4] == board[8] != ' ':\n",
    "        winner = board[0]        \n",
    "    elif board[6] == board[4] == board[2] != ' ':\n",
    "        winner = board[6]"
   ]
  },
  {
   "cell_type": "code",
   "execution_count": 5,
   "id": "04b7655b-5674-405d-b301-c43a61d68e0c",
   "metadata": {},
   "outputs": [],
   "source": [
    "# Taking input from player\n",
    "def user_input():\n",
    "    global player1\n",
    "    global player2\n",
    "    global count \n",
    "    global winner\n",
    "    \n",
    "    changing_player()  \n",
    "    \n",
    "    while count != 9:\n",
    "        while player1:\n",
    "            position = input(\"Enter the number between 1 to 9 for X\")\n",
    "            while position not in ('1','2','3','4','5','6','7','8','9'):\n",
    "                position = input(\"Invalid Input. Please try again\")\n",
    "            position = int(position) - 1\n",
    "            if board[position] == ' ':\n",
    "                board[position] = 'X'\n",
    "                count +=1\n",
    "                display_board()\n",
    "                player1 = False\n",
    "                player2 = True\n",
    "                check_result()\n",
    "                if winner == 'X' or winner == 'O':                 # Winner check\n",
    "                    print(f'{winner} is winner')\n",
    "                    count = 9\n",
    "                    player2 = False\n",
    "                    break\n",
    "                if count == 9 :                                     # Tie Condition\n",
    "                    player2 = False\n",
    "                    print(\"Game is Tie\")\n",
    "                    break\n",
    "            else:\n",
    "                print(\"space is not empty. Try another position\")\n",
    "                \n",
    "        while player2:\n",
    "            position = input(\"Enter the number between 1 to 9 for O \")\n",
    "            while position not in ('1','2','3','4','5','6','7','8','9'):\n",
    "                position = input(\"Invalid Input. Please try again\")\n",
    "            position = int(position) - 1\n",
    "            if board[position] == ' ':\n",
    "                board[position] = 'O'\n",
    "                count +=1\n",
    "                display_board()\n",
    "                player2 = False\n",
    "                player1 = True\n",
    "                check_result()\n",
    "                if winner == 'X' or winner == 'O':                 # Winner check\n",
    "                    print(f'{winner} is winner')\n",
    "                    count = 9\n",
    "                    player1 = False\n",
    "                    break\n",
    "                if count == 9 :                                    # Check Condition\n",
    "                    player1 = False\n",
    "                    print(\"Game is Tie\")\n",
    "                    break\n",
    "            else:\n",
    "                print(\"space is not empty. Try another position\")"
   ]
  },
  {
   "cell_type": "code",
   "execution_count": 6,
   "id": "354cdc33-be2f-4b74-b64c-a460e5157277",
   "metadata": {},
   "outputs": [],
   "source": [
    "# Main Function \n",
    "def main_game():\n",
    "    \n",
    "    global player1\n",
    "    global player2\n",
    "    global count \n",
    "    global winner\n",
    "    global again\n",
    "    global board\n",
    "    \n",
    "    while again == True:\n",
    "        display_board()\n",
    "        user_input()\n",
    "        ans = input(\"Press Y to play again\")\n",
    "        if ans.capitalize() == \"Y\":\n",
    "            player1 = True\n",
    "            player2 = False\n",
    "            count = 0\n",
    "            winner = None\n",
    "            board = [' ',' ',' ',' ',' ',' ',' ',' ',' ']\n",
    "            \n",
    "        else:\n",
    "            again = False\n",
    "            print(\"Game over!\")"
   ]
  },
  {
   "cell_type": "code",
   "execution_count": 7,
   "id": "f8ad443c-0709-49cd-83ee-39d1fc340ac4",
   "metadata": {},
   "outputs": [
    {
     "name": "stdout",
     "output_type": "stream",
     "text": [
      "  |   |  \n",
      "-------\n",
      "  |   |  \n",
      "--*---*--\n",
      "  |   |  \n"
     ]
    },
    {
     "name": "stdin",
     "output_type": "stream",
     "text": [
      "Enter the number between 1 to 9 for O  1\n"
     ]
    },
    {
     "name": "stdout",
     "output_type": "stream",
     "text": [
      "O |   |  \n",
      "-------\n",
      "  |   |  \n",
      "--*---*--\n",
      "  |   |  \n"
     ]
    },
    {
     "name": "stdin",
     "output_type": "stream",
     "text": [
      "Enter the number between 1 to 9 for X 2\n"
     ]
    },
    {
     "name": "stdout",
     "output_type": "stream",
     "text": [
      "O | X |  \n",
      "-------\n",
      "  |   |  \n",
      "--*---*--\n",
      "  |   |  \n"
     ]
    },
    {
     "name": "stdin",
     "output_type": "stream",
     "text": [
      "Enter the number between 1 to 9 for O  3\n"
     ]
    },
    {
     "name": "stdout",
     "output_type": "stream",
     "text": [
      "O | X | O\n",
      "-------\n",
      "  |   |  \n",
      "--*---*--\n",
      "  |   |  \n"
     ]
    },
    {
     "name": "stdin",
     "output_type": "stream",
     "text": [
      "Enter the number between 1 to 9 for X 4\n"
     ]
    },
    {
     "name": "stdout",
     "output_type": "stream",
     "text": [
      "O | X | O\n",
      "-------\n",
      "X |   |  \n",
      "--*---*--\n",
      "  |   |  \n"
     ]
    },
    {
     "name": "stdin",
     "output_type": "stream",
     "text": [
      "Enter the number between 1 to 9 for O  5\n"
     ]
    },
    {
     "name": "stdout",
     "output_type": "stream",
     "text": [
      "O | X | O\n",
      "-------\n",
      "X | O |  \n",
      "--*---*--\n",
      "  |   |  \n"
     ]
    },
    {
     "name": "stdin",
     "output_type": "stream",
     "text": [
      "Enter the number between 1 to 9 for X 6\n"
     ]
    },
    {
     "name": "stdout",
     "output_type": "stream",
     "text": [
      "O | X | O\n",
      "-------\n",
      "X | O | X\n",
      "--*---*--\n",
      "  |   |  \n"
     ]
    },
    {
     "name": "stdin",
     "output_type": "stream",
     "text": [
      "Enter the number between 1 to 9 for O  7\n"
     ]
    },
    {
     "name": "stdout",
     "output_type": "stream",
     "text": [
      "O | X | O\n",
      "-------\n",
      "X | O | X\n",
      "--*---*--\n",
      "O |   |  \n",
      "O is winner\n"
     ]
    },
    {
     "name": "stdin",
     "output_type": "stream",
     "text": [
      "Press Y to play again 8\n"
     ]
    },
    {
     "name": "stdout",
     "output_type": "stream",
     "text": [
      "Game over!\n"
     ]
    }
   ],
   "source": [
    " main_game()"
   ]
  },
  {
   "cell_type": "code",
   "execution_count": null,
   "id": "1b4bdb1d-6d89-4e9e-833c-d486dc90ecbc",
   "metadata": {},
   "outputs": [],
   "source": []
  }
 ],
 "metadata": {
  "kernelspec": {
   "display_name": "Python 3 (ipykernel)",
   "language": "python",
   "name": "python3"
  },
  "language_info": {
   "codemirror_mode": {
    "name": "ipython",
    "version": 3
   },
   "file_extension": ".py",
   "mimetype": "text/x-python",
   "name": "python",
   "nbconvert_exporter": "python",
   "pygments_lexer": "ipython3",
   "version": "3.9.7"
  }
 },
 "nbformat": 4,
 "nbformat_minor": 5
}
